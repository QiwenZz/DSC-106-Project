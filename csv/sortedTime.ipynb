{
 "cells": [
  {
   "cell_type": "code",
   "execution_count": 2,
   "metadata": {},
   "outputs": [],
   "source": [
    "data = read.csv('population.csv')"
   ]
  },
  {
   "cell_type": "code",
   "execution_count": null,
   "metadata": {},
   "outputs": [],
   "source": []
  },
  {
   "cell_type": "code",
   "execution_count": 3,
   "metadata": {},
   "outputs": [],
   "source": [
    " Sys.setenv(LANG = \"en\")"
   ]
  },
  {
   "cell_type": "code",
   "execution_count": 5,
   "metadata": {},
   "outputs": [],
   "source": [
    "#data = data[c(1:49)]"
   ]
  },
  {
   "cell_type": "code",
   "execution_count": 6,
   "metadata": {},
   "outputs": [
    {
     "data": {
      "text/html": [
       "<table>\n",
       "<thead><tr><th scope=col>Country.Name</th><th scope=col>Country.Code</th><th scope=col>X1970</th><th scope=col>X1971</th><th scope=col>X1972</th><th scope=col>X1973</th><th scope=col>X1974</th><th scope=col>X1975</th><th scope=col>X1976</th><th scope=col>X1977</th><th scope=col>...</th><th scope=col>X2006</th><th scope=col>X2007</th><th scope=col>X2008</th><th scope=col>X2009</th><th scope=col>X2010</th><th scope=col>X2011</th><th scope=col>X2012</th><th scope=col>X2013</th><th scope=col>X2014</th><th scope=col>X2015</th></tr></thead>\n",
       "<tbody>\n",
       "\t<tr><td>Aruba               </td><td>ABW                 </td><td>   59063            </td><td>   59440            </td><td>   59840            </td><td>   60243            </td><td>   60528            </td><td>   60657            </td><td>   60586            </td><td>   60366            </td><td>...                 </td><td>  100834            </td><td>  101222            </td><td>  101358            </td><td>  101455            </td><td>  101669            </td><td>  102046            </td><td>  102560            </td><td>  103159            </td><td>  103774            </td><td>  104341            </td></tr>\n",
       "\t<tr><td>Afghanistan         </td><td>AFG                 </td><td>11173642            </td><td>11475445            </td><td>11791215            </td><td>12108963            </td><td>12412950            </td><td>12689160            </td><td>12943093            </td><td>13171306            </td><td>...                 </td><td>26433049            </td><td>27100536            </td><td>27722276            </td><td>28394813            </td><td>29185507            </td><td>30117413            </td><td>31161376            </td><td>32269589            </td><td>33370794            </td><td>34413603            </td></tr>\n",
       "\t<tr><td>Angola              </td><td>AGO                 </td><td> 5890365            </td><td> 6040777            </td><td> 6248552            </td><td> 6496962            </td><td> 6761380            </td><td> 7024000            </td><td> 7279509            </td><td> 7533735            </td><td>...                 </td><td>20149901            </td><td>20905363            </td><td>21695634            </td><td>22514281            </td><td>23356246            </td><td>24220661            </td><td>25107931            </td><td>26015780            </td><td>26941779            </td><td>27884381            </td></tr>\n",
       "\t<tr><td>Albania             </td><td>ALB                 </td><td> 2135479            </td><td> 2187853            </td><td> 2243126            </td><td> 2296752            </td><td> 2350124            </td><td> 2404831            </td><td> 2458526            </td><td> 2513546            </td><td>...                 </td><td> 2992547            </td><td> 2970017            </td><td> 2947314            </td><td> 2927519            </td><td> 2913021            </td><td> 2905195            </td><td> 2900401            </td><td> 2895092            </td><td> 2889104            </td><td> 2880703            </td></tr>\n",
       "\t<tr><td>Andorra             </td><td>AND                 </td><td>   24276            </td><td>   25559            </td><td>   26892            </td><td>   28232            </td><td>   29520            </td><td>   30705            </td><td>   31777            </td><td>   32771            </td><td>...                 </td><td>   80993            </td><td>   82684            </td><td>   83862            </td><td>   84463            </td><td>   84449            </td><td>   83747            </td><td>   82427            </td><td>   80774            </td><td>   79213            </td><td>   78011            </td></tr>\n",
       "\t<tr><td>United Arab Emirates</td><td>ARE                 </td><td>  234514            </td><td>  277471            </td><td>  330974            </td><td>  394624            </td><td>  467451            </td><td>  548301            </td><td>  637922            </td><td>  735344            </td><td>...                 </td><td> 5300174            </td><td> 6168838            </td><td> 7089487            </td><td> 7917372            </td><td> 8549988            </td><td> 8946777            </td><td> 9141596            </td><td> 9197910            </td><td> 9214175            </td><td> 9262900            </td></tr>\n",
       "</tbody>\n",
       "</table>\n"
      ],
      "text/latex": [
       "\\begin{tabular}{r|llllllllllllllllllllllllllllllllllllllllllllllll}\n",
       " Country.Name & Country.Code & X1970 & X1971 & X1972 & X1973 & X1974 & X1975 & X1976 & X1977 & ... & X2006 & X2007 & X2008 & X2009 & X2010 & X2011 & X2012 & X2013 & X2014 & X2015\\\\\n",
       "\\hline\n",
       "\t Aruba                & ABW                  &    59063             &    59440             &    59840             &    60243             &    60528             &    60657             &    60586             &    60366             & ...                  &   100834             &   101222             &   101358             &   101455             &   101669             &   102046             &   102560             &   103159             &   103774             &   104341            \\\\\n",
       "\t Afghanistan          & AFG                  & 11173642             & 11475445             & 11791215             & 12108963             & 12412950             & 12689160             & 12943093             & 13171306             & ...                  & 26433049             & 27100536             & 27722276             & 28394813             & 29185507             & 30117413             & 31161376             & 32269589             & 33370794             & 34413603            \\\\\n",
       "\t Angola               & AGO                  &  5890365             &  6040777             &  6248552             &  6496962             &  6761380             &  7024000             &  7279509             &  7533735             & ...                  & 20149901             & 20905363             & 21695634             & 22514281             & 23356246             & 24220661             & 25107931             & 26015780             & 26941779             & 27884381            \\\\\n",
       "\t Albania              & ALB                  &  2135479             &  2187853             &  2243126             &  2296752             &  2350124             &  2404831             &  2458526             &  2513546             & ...                  &  2992547             &  2970017             &  2947314             &  2927519             &  2913021             &  2905195             &  2900401             &  2895092             &  2889104             &  2880703            \\\\\n",
       "\t Andorra              & AND                  &    24276             &    25559             &    26892             &    28232             &    29520             &    30705             &    31777             &    32771             & ...                  &    80993             &    82684             &    83862             &    84463             &    84449             &    83747             &    82427             &    80774             &    79213             &    78011            \\\\\n",
       "\t United Arab Emirates & ARE                  &   234514             &   277471             &   330974             &   394624             &   467451             &   548301             &   637922             &   735344             & ...                  &  5300174             &  6168838             &  7089487             &  7917372             &  8549988             &  8946777             &  9141596             &  9197910             &  9214175             &  9262900            \\\\\n",
       "\\end{tabular}\n"
      ],
      "text/markdown": [
       "\n",
       "| Country.Name | Country.Code | X1970 | X1971 | X1972 | X1973 | X1974 | X1975 | X1976 | X1977 | ... | X2006 | X2007 | X2008 | X2009 | X2010 | X2011 | X2012 | X2013 | X2014 | X2015 |\n",
       "|---|---|---|---|---|---|---|---|---|---|---|---|---|---|---|---|---|---|---|---|---|\n",
       "| Aruba                | ABW                  |    59063             |    59440             |    59840             |    60243             |    60528             |    60657             |    60586             |    60366             | ...                  |   100834             |   101222             |   101358             |   101455             |   101669             |   102046             |   102560             |   103159             |   103774             |   104341             |\n",
       "| Afghanistan          | AFG                  | 11173642             | 11475445             | 11791215             | 12108963             | 12412950             | 12689160             | 12943093             | 13171306             | ...                  | 26433049             | 27100536             | 27722276             | 28394813             | 29185507             | 30117413             | 31161376             | 32269589             | 33370794             | 34413603             |\n",
       "| Angola               | AGO                  |  5890365             |  6040777             |  6248552             |  6496962             |  6761380             |  7024000             |  7279509             |  7533735             | ...                  | 20149901             | 20905363             | 21695634             | 22514281             | 23356246             | 24220661             | 25107931             | 26015780             | 26941779             | 27884381             |\n",
       "| Albania              | ALB                  |  2135479             |  2187853             |  2243126             |  2296752             |  2350124             |  2404831             |  2458526             |  2513546             | ...                  |  2992547             |  2970017             |  2947314             |  2927519             |  2913021             |  2905195             |  2900401             |  2895092             |  2889104             |  2880703             |\n",
       "| Andorra              | AND                  |    24276             |    25559             |    26892             |    28232             |    29520             |    30705             |    31777             |    32771             | ...                  |    80993             |    82684             |    83862             |    84463             |    84449             |    83747             |    82427             |    80774             |    79213             |    78011             |\n",
       "| United Arab Emirates | ARE                  |   234514             |   277471             |   330974             |   394624             |   467451             |   548301             |   637922             |   735344             | ...                  |  5300174             |  6168838             |  7089487             |  7917372             |  8549988             |  8946777             |  9141596             |  9197910             |  9214175             |  9262900             |\n",
       "\n"
      ],
      "text/plain": [
       "  Country.Name         Country.Code X1970    X1971    X1972    X1973   \n",
       "1 Aruba                ABW             59063    59440    59840    60243\n",
       "2 Afghanistan          AFG          11173642 11475445 11791215 12108963\n",
       "3 Angola               AGO           5890365  6040777  6248552  6496962\n",
       "4 Albania              ALB           2135479  2187853  2243126  2296752\n",
       "5 Andorra              AND             24276    25559    26892    28232\n",
       "6 United Arab Emirates ARE            234514   277471   330974   394624\n",
       "  X1974    X1975    X1976    X1977    ... X2006    X2007    X2008    X2009   \n",
       "1    60528    60657    60586    60366 ...   100834   101222   101358   101455\n",
       "2 12412950 12689160 12943093 13171306 ... 26433049 27100536 27722276 28394813\n",
       "3  6761380  7024000  7279509  7533735 ... 20149901 20905363 21695634 22514281\n",
       "4  2350124  2404831  2458526  2513546 ...  2992547  2970017  2947314  2927519\n",
       "5    29520    30705    31777    32771 ...    80993    82684    83862    84463\n",
       "6   467451   548301   637922   735344 ...  5300174  6168838  7089487  7917372\n",
       "  X2010    X2011    X2012    X2013    X2014    X2015   \n",
       "1   101669   102046   102560   103159   103774   104341\n",
       "2 29185507 30117413 31161376 32269589 33370794 34413603\n",
       "3 23356246 24220661 25107931 26015780 26941779 27884381\n",
       "4  2913021  2905195  2900401  2895092  2889104  2880703\n",
       "5    84449    83747    82427    80774    79213    78011\n",
       "6  8549988  8946777  9141596  9197910  9214175  9262900"
      ]
     },
     "metadata": {},
     "output_type": "display_data"
    }
   ],
   "source": [
    "head(data)"
   ]
  },
  {
   "cell_type": "code",
   "execution_count": 15,
   "metadata": {},
   "outputs": [
    {
     "name": "stderr",
     "output_type": "stream",
     "text": [
      "Updating HTML index of packages in '.Library'\n",
      "Making 'packages.html' ... done\n"
     ]
    }
   ],
   "source": [
    "install.packages('reshape')"
   ]
  },
  {
   "cell_type": "code",
   "execution_count": 7,
   "metadata": {},
   "outputs": [],
   "source": [
    "library(reshape)"
   ]
  },
  {
   "cell_type": "code",
   "execution_count": 8,
   "metadata": {},
   "outputs": [],
   "source": [
    "d1 = melt(data, id=c(\"Country.Name\",\"Country.Code\"))"
   ]
  },
  {
   "cell_type": "code",
   "execution_count": 10,
   "metadata": {},
   "outputs": [
    {
     "data": {
      "text/html": [
       "<table>\n",
       "<thead><tr><th scope=col>Country.Name</th><th scope=col>Country.Code</th><th scope=col>variable</th><th scope=col>value</th></tr></thead>\n",
       "<tbody>\n",
       "\t<tr><td>Aruba               </td><td>ABW                 </td><td>X1970               </td><td>   59063            </td></tr>\n",
       "\t<tr><td>Afghanistan         </td><td>AFG                 </td><td>X1970               </td><td>11173642            </td></tr>\n",
       "\t<tr><td>Angola              </td><td>AGO                 </td><td>X1970               </td><td> 5890365            </td></tr>\n",
       "\t<tr><td>Albania             </td><td>ALB                 </td><td>X1970               </td><td> 2135479            </td></tr>\n",
       "\t<tr><td>Andorra             </td><td>AND                 </td><td>X1970               </td><td>   24276            </td></tr>\n",
       "\t<tr><td>United Arab Emirates</td><td>ARE                 </td><td>X1970               </td><td>  234514            </td></tr>\n",
       "</tbody>\n",
       "</table>\n"
      ],
      "text/latex": [
       "\\begin{tabular}{r|llll}\n",
       " Country.Name & Country.Code & variable & value\\\\\n",
       "\\hline\n",
       "\t Aruba                & ABW                  & X1970                &    59063            \\\\\n",
       "\t Afghanistan          & AFG                  & X1970                & 11173642            \\\\\n",
       "\t Angola               & AGO                  & X1970                &  5890365            \\\\\n",
       "\t Albania              & ALB                  & X1970                &  2135479            \\\\\n",
       "\t Andorra              & AND                  & X1970                &    24276            \\\\\n",
       "\t United Arab Emirates & ARE                  & X1970                &   234514            \\\\\n",
       "\\end{tabular}\n"
      ],
      "text/markdown": [
       "\n",
       "| Country.Name | Country.Code | variable | value |\n",
       "|---|---|---|---|\n",
       "| Aruba                | ABW                  | X1970                |    59063             |\n",
       "| Afghanistan          | AFG                  | X1970                | 11173642             |\n",
       "| Angola               | AGO                  | X1970                |  5890365             |\n",
       "| Albania              | ALB                  | X1970                |  2135479             |\n",
       "| Andorra              | AND                  | X1970                |    24276             |\n",
       "| United Arab Emirates | ARE                  | X1970                |   234514             |\n",
       "\n"
      ],
      "text/plain": [
       "  Country.Name         Country.Code variable value   \n",
       "1 Aruba                ABW          X1970       59063\n",
       "2 Afghanistan          AFG          X1970    11173642\n",
       "3 Angola               AGO          X1970     5890365\n",
       "4 Albania              ALB          X1970     2135479\n",
       "5 Andorra              AND          X1970       24276\n",
       "6 United Arab Emirates ARE          X1970      234514"
      ]
     },
     "metadata": {},
     "output_type": "display_data"
    }
   ],
   "source": [
    "head(d1)"
   ]
  },
  {
   "cell_type": "code",
   "execution_count": 11,
   "metadata": {},
   "outputs": [],
   "source": [
    "names(d1) = c('country', 'code', 'time', 'value')"
   ]
  },
  {
   "cell_type": "code",
   "execution_count": 12,
   "metadata": {},
   "outputs": [
    {
     "data": {
      "text/html": [
       "9890"
      ],
      "text/latex": [
       "9890"
      ],
      "text/markdown": [
       "9890"
      ],
      "text/plain": [
       "[1] 9890"
      ]
     },
     "metadata": {},
     "output_type": "display_data"
    }
   ],
   "source": [
    "rowNumber = nrow(d1)\n",
    "rowNumber"
   ]
  },
  {
   "cell_type": "code",
   "execution_count": 13,
   "metadata": {},
   "outputs": [],
   "source": [
    "newt = rep(0, times = rowNumber)"
   ]
  },
  {
   "cell_type": "code",
   "execution_count": 14,
   "metadata": {},
   "outputs": [],
   "source": [
    "year <- d1[['time']]"
   ]
  },
  {
   "cell_type": "code",
   "execution_count": 15,
   "metadata": {},
   "outputs": [
    {
     "data": {
      "text/html": [
       "'1970'"
      ],
      "text/latex": [
       "'1970'"
      ],
      "text/markdown": [
       "'1970'"
      ],
      "text/plain": [
       "[1] \"1970\""
      ]
     },
     "metadata": {},
     "output_type": "display_data"
    }
   ],
   "source": [
    "a <- year[1]\n",
    "substr(a, start = 2, stop = 5)"
   ]
  },
  {
   "cell_type": "code",
   "execution_count": 16,
   "metadata": {},
   "outputs": [],
   "source": [
    "for (i in 1:rowNumber){\n",
    "    a <- year[i]\n",
    "    b <- substr(a, start = 2, stop = 5)\n",
    "    newt[i] <- b\n",
    "}"
   ]
  },
  {
   "cell_type": "code",
   "execution_count": 17,
   "metadata": {},
   "outputs": [],
   "source": [
    "d1['time'] = newt"
   ]
  },
  {
   "cell_type": "code",
   "execution_count": 18,
   "metadata": {},
   "outputs": [
    {
     "data": {
      "text/html": [
       "<table>\n",
       "<thead><tr><th scope=col>country</th><th scope=col>code</th><th scope=col>time</th><th scope=col>value</th></tr></thead>\n",
       "<tbody>\n",
       "\t<tr><td>Aruba                 </td><td>ABW                   </td><td>1970                  </td><td>   59063              </td></tr>\n",
       "\t<tr><td>Afghanistan           </td><td>AFG                   </td><td>1970                  </td><td>11173642              </td></tr>\n",
       "\t<tr><td>Angola                </td><td>AGO                   </td><td>1970                  </td><td> 5890365              </td></tr>\n",
       "\t<tr><td>Albania               </td><td>ALB                   </td><td>1970                  </td><td> 2135479              </td></tr>\n",
       "\t<tr><td>Andorra               </td><td>AND                   </td><td>1970                  </td><td>   24276              </td></tr>\n",
       "\t<tr><td>United Arab Emirates  </td><td>ARE                   </td><td>1970                  </td><td>  234514              </td></tr>\n",
       "\t<tr><td>Argentina             </td><td>ARG                   </td><td>1970                  </td><td>23880561              </td></tr>\n",
       "\t<tr><td>Armenia               </td><td>ARM                   </td><td>1970                  </td><td> 2525068              </td></tr>\n",
       "\t<tr><td>American Samoa        </td><td>ASM                   </td><td>1970                  </td><td>   27363              </td></tr>\n",
       "\t<tr><td>Antigua and Barbuda   </td><td>ATG                   </td><td>1970                  </td><td>   64177              </td></tr>\n",
       "\t<tr><td>Australia             </td><td>AUS                   </td><td>1970                  </td><td>12507000              </td></tr>\n",
       "\t<tr><td>Austria               </td><td>AUT                   </td><td>1970                  </td><td> 7467086              </td></tr>\n",
       "\t<tr><td>Azerbaijan            </td><td>AZE                   </td><td>1970                  </td><td> 5180023              </td></tr>\n",
       "\t<tr><td>Burundi               </td><td>BDI                   </td><td>1970                  </td><td> 3479074              </td></tr>\n",
       "\t<tr><td>Belgium               </td><td>BEL                   </td><td>1970                  </td><td> 9655549              </td></tr>\n",
       "\t<tr><td>Benin                 </td><td>BEN                   </td><td>1970                  </td><td> 2912340              </td></tr>\n",
       "\t<tr><td>Burkina Faso          </td><td>BFA                   </td><td>1970                  </td><td> 5624600              </td></tr>\n",
       "\t<tr><td>Bangladesh            </td><td>BGD                   </td><td>1970                  </td><td>64232482              </td></tr>\n",
       "\t<tr><td>Bulgaria              </td><td>BGR                   </td><td>1970                  </td><td> 8489574              </td></tr>\n",
       "\t<tr><td>Bahrain               </td><td>BHR                   </td><td>1970                  </td><td>  212605              </td></tr>\n",
       "\t<tr><td>Bahamas, The          </td><td>BHS                   </td><td>1970                  </td><td>  169377              </td></tr>\n",
       "\t<tr><td>Bosnia and Herzegovina</td><td>BIH                   </td><td>1970                  </td><td> 3760529              </td></tr>\n",
       "\t<tr><td>Belarus               </td><td>BLR                   </td><td>1970                  </td><td> 9040000              </td></tr>\n",
       "\t<tr><td>Belize                </td><td>BLZ                   </td><td>1970                  </td><td>  122182              </td></tr>\n",
       "\t<tr><td>Bermuda               </td><td>BMU                   </td><td>1970                  </td><td>   55000              </td></tr>\n",
       "\t<tr><td>Bolivia               </td><td>BOL                   </td><td>1970                  </td><td> 4484004              </td></tr>\n",
       "\t<tr><td>Brazil                </td><td>BRA                   </td><td>1970                  </td><td>95113265              </td></tr>\n",
       "\t<tr><td>Barbados              </td><td>BRB                   </td><td>1970                  </td><td>  238896              </td></tr>\n",
       "\t<tr><td>Brunei Darussalam     </td><td>BRN                   </td><td>1970                  </td><td>  129529              </td></tr>\n",
       "\t<tr><td>Bhutan                </td><td>BTN                   </td><td>1970                  </td><td>  297316              </td></tr>\n",
       "\t<tr><td>...</td><td>...</td><td>...</td><td>...</td></tr>\n",
       "\t<tr><td>Turks and Caicos Islands      </td><td>TCA                           </td><td>2015                          </td><td>    35981                     </td></tr>\n",
       "\t<tr><td>Chad                          </td><td>TCD                           </td><td>2015                          </td><td> 14110975                     </td></tr>\n",
       "\t<tr><td>Togo                          </td><td>TGO                           </td><td>2015                          </td><td>  7323158                     </td></tr>\n",
       "\t<tr><td>Thailand                      </td><td>THA                           </td><td>2015                          </td><td> 68714511                     </td></tr>\n",
       "\t<tr><td>Tajikistan                    </td><td>TJK                           </td><td>2015                          </td><td>  8454028                     </td></tr>\n",
       "\t<tr><td>Turkmenistan                  </td><td>TKM                           </td><td>2015                          </td><td>  5565287                     </td></tr>\n",
       "\t<tr><td>Timor-Leste                   </td><td>TLS                           </td><td>2015                          </td><td>  1196302                     </td></tr>\n",
       "\t<tr><td>Tonga                         </td><td>TON                           </td><td>2015                          </td><td>   100781                     </td></tr>\n",
       "\t<tr><td>Trinidad and Tobago           </td><td>TTO                           </td><td>2015                          </td><td>  1370328                     </td></tr>\n",
       "\t<tr><td>Tunisia                       </td><td>TUN                           </td><td>2015                          </td><td> 11179949                     </td></tr>\n",
       "\t<tr><td>Turkey                        </td><td>TUR                           </td><td>2015                          </td><td> 78529409                     </td></tr>\n",
       "\t<tr><td>Tuvalu                        </td><td>TUV                           </td><td>2015                          </td><td>    11099                     </td></tr>\n",
       "\t<tr><td>Tanzania                      </td><td>TZA                           </td><td>2015                          </td><td> 51482633                     </td></tr>\n",
       "\t<tr><td>Uganda                        </td><td>UGA                           </td><td>2015                          </td><td> 38225453                     </td></tr>\n",
       "\t<tr><td>Ukraine                       </td><td>UKR                           </td><td>2015                          </td><td> 45154036                     </td></tr>\n",
       "\t<tr><td>Uruguay                       </td><td>URY                           </td><td>2015                          </td><td>  3412009                     </td></tr>\n",
       "\t<tr><td>United States                 </td><td>USA                           </td><td>2015                          </td><td>320635163                     </td></tr>\n",
       "\t<tr><td>Uzbekistan                    </td><td>UZB                           </td><td>2015                          </td><td> 31298900                     </td></tr>\n",
       "\t<tr><td>St. Vincent and the Grenadines</td><td>VCT                           </td><td>2015                          </td><td>   109148                     </td></tr>\n",
       "\t<tr><td>Venezuela, RB                 </td><td>VEN                           </td><td>2015                          </td><td> 30081829                     </td></tr>\n",
       "\t<tr><td>British Virgin Islands        </td><td>VGB                           </td><td>2015                          </td><td>    29152                     </td></tr>\n",
       "\t<tr><td>Virgin Islands (U.S.)         </td><td>VIR                           </td><td>2015                          </td><td>   107710                     </td></tr>\n",
       "\t<tr><td>Vietnam                       </td><td>VNM                           </td><td>2015                          </td><td> 92677076                     </td></tr>\n",
       "\t<tr><td>Vanuatu                       </td><td>VUT                           </td><td>2015                          </td><td>   271130                     </td></tr>\n",
       "\t<tr><td>Samoa                         </td><td>WSM                           </td><td>2015                          </td><td>   193513                     </td></tr>\n",
       "\t<tr><td>Kosovo                        </td><td>XKX                           </td><td>2015                          </td><td>  1788196                     </td></tr>\n",
       "\t<tr><td>Yemen, Rep.                   </td><td>YEM                           </td><td>2015                          </td><td> 26497889                     </td></tr>\n",
       "\t<tr><td>South Africa                  </td><td>ZAF                           </td><td>2015                          </td><td> 55386367                     </td></tr>\n",
       "\t<tr><td>Zambia                        </td><td>ZMB                           </td><td>2015                          </td><td> 15879361                     </td></tr>\n",
       "\t<tr><td>Zimbabwe                      </td><td>ZWE                           </td><td>2015                          </td><td> 13814629                     </td></tr>\n",
       "</tbody>\n",
       "</table>\n"
      ],
      "text/latex": [
       "\\begin{tabular}{r|llll}\n",
       " country & code & time & value\\\\\n",
       "\\hline\n",
       "\t Aruba                  & ABW                    & 1970                   &    59063              \\\\\n",
       "\t Afghanistan            & AFG                    & 1970                   & 11173642              \\\\\n",
       "\t Angola                 & AGO                    & 1970                   &  5890365              \\\\\n",
       "\t Albania                & ALB                    & 1970                   &  2135479              \\\\\n",
       "\t Andorra                & AND                    & 1970                   &    24276              \\\\\n",
       "\t United Arab Emirates   & ARE                    & 1970                   &   234514              \\\\\n",
       "\t Argentina              & ARG                    & 1970                   & 23880561              \\\\\n",
       "\t Armenia                & ARM                    & 1970                   &  2525068              \\\\\n",
       "\t American Samoa         & ASM                    & 1970                   &    27363              \\\\\n",
       "\t Antigua and Barbuda    & ATG                    & 1970                   &    64177              \\\\\n",
       "\t Australia              & AUS                    & 1970                   & 12507000              \\\\\n",
       "\t Austria                & AUT                    & 1970                   &  7467086              \\\\\n",
       "\t Azerbaijan             & AZE                    & 1970                   &  5180023              \\\\\n",
       "\t Burundi                & BDI                    & 1970                   &  3479074              \\\\\n",
       "\t Belgium                & BEL                    & 1970                   &  9655549              \\\\\n",
       "\t Benin                  & BEN                    & 1970                   &  2912340              \\\\\n",
       "\t Burkina Faso           & BFA                    & 1970                   &  5624600              \\\\\n",
       "\t Bangladesh             & BGD                    & 1970                   & 64232482              \\\\\n",
       "\t Bulgaria               & BGR                    & 1970                   &  8489574              \\\\\n",
       "\t Bahrain                & BHR                    & 1970                   &   212605              \\\\\n",
       "\t Bahamas, The           & BHS                    & 1970                   &   169377              \\\\\n",
       "\t Bosnia and Herzegovina & BIH                    & 1970                   &  3760529              \\\\\n",
       "\t Belarus                & BLR                    & 1970                   &  9040000              \\\\\n",
       "\t Belize                 & BLZ                    & 1970                   &   122182              \\\\\n",
       "\t Bermuda                & BMU                    & 1970                   &    55000              \\\\\n",
       "\t Bolivia                & BOL                    & 1970                   &  4484004              \\\\\n",
       "\t Brazil                 & BRA                    & 1970                   & 95113265              \\\\\n",
       "\t Barbados               & BRB                    & 1970                   &   238896              \\\\\n",
       "\t Brunei Darussalam      & BRN                    & 1970                   &   129529              \\\\\n",
       "\t Bhutan                 & BTN                    & 1970                   &   297316              \\\\\n",
       "\t ... & ... & ... & ...\\\\\n",
       "\t Turks and Caicos Islands       & TCA                            & 2015                           &     35981                     \\\\\n",
       "\t Chad                           & TCD                            & 2015                           &  14110975                     \\\\\n",
       "\t Togo                           & TGO                            & 2015                           &   7323158                     \\\\\n",
       "\t Thailand                       & THA                            & 2015                           &  68714511                     \\\\\n",
       "\t Tajikistan                     & TJK                            & 2015                           &   8454028                     \\\\\n",
       "\t Turkmenistan                   & TKM                            & 2015                           &   5565287                     \\\\\n",
       "\t Timor-Leste                    & TLS                            & 2015                           &   1196302                     \\\\\n",
       "\t Tonga                          & TON                            & 2015                           &    100781                     \\\\\n",
       "\t Trinidad and Tobago            & TTO                            & 2015                           &   1370328                     \\\\\n",
       "\t Tunisia                        & TUN                            & 2015                           &  11179949                     \\\\\n",
       "\t Turkey                         & TUR                            & 2015                           &  78529409                     \\\\\n",
       "\t Tuvalu                         & TUV                            & 2015                           &     11099                     \\\\\n",
       "\t Tanzania                       & TZA                            & 2015                           &  51482633                     \\\\\n",
       "\t Uganda                         & UGA                            & 2015                           &  38225453                     \\\\\n",
       "\t Ukraine                        & UKR                            & 2015                           &  45154036                     \\\\\n",
       "\t Uruguay                        & URY                            & 2015                           &   3412009                     \\\\\n",
       "\t United States                  & USA                            & 2015                           & 320635163                     \\\\\n",
       "\t Uzbekistan                     & UZB                            & 2015                           &  31298900                     \\\\\n",
       "\t St. Vincent and the Grenadines & VCT                            & 2015                           &    109148                     \\\\\n",
       "\t Venezuela, RB                  & VEN                            & 2015                           &  30081829                     \\\\\n",
       "\t British Virgin Islands         & VGB                            & 2015                           &     29152                     \\\\\n",
       "\t Virgin Islands (U.S.)          & VIR                            & 2015                           &    107710                     \\\\\n",
       "\t Vietnam                        & VNM                            & 2015                           &  92677076                     \\\\\n",
       "\t Vanuatu                        & VUT                            & 2015                           &    271130                     \\\\\n",
       "\t Samoa                          & WSM                            & 2015                           &    193513                     \\\\\n",
       "\t Kosovo                         & XKX                            & 2015                           &   1788196                     \\\\\n",
       "\t Yemen, Rep.                    & YEM                            & 2015                           &  26497889                     \\\\\n",
       "\t South Africa                   & ZAF                            & 2015                           &  55386367                     \\\\\n",
       "\t Zambia                         & ZMB                            & 2015                           &  15879361                     \\\\\n",
       "\t Zimbabwe                       & ZWE                            & 2015                           &  13814629                     \\\\\n",
       "\\end{tabular}\n"
      ],
      "text/markdown": [
       "\n",
       "| country | code | time | value |\n",
       "|---|---|---|---|\n",
       "| Aruba                  | ABW                    | 1970                   |    59063               |\n",
       "| Afghanistan            | AFG                    | 1970                   | 11173642               |\n",
       "| Angola                 | AGO                    | 1970                   |  5890365               |\n",
       "| Albania                | ALB                    | 1970                   |  2135479               |\n",
       "| Andorra                | AND                    | 1970                   |    24276               |\n",
       "| United Arab Emirates   | ARE                    | 1970                   |   234514               |\n",
       "| Argentina              | ARG                    | 1970                   | 23880561               |\n",
       "| Armenia                | ARM                    | 1970                   |  2525068               |\n",
       "| American Samoa         | ASM                    | 1970                   |    27363               |\n",
       "| Antigua and Barbuda    | ATG                    | 1970                   |    64177               |\n",
       "| Australia              | AUS                    | 1970                   | 12507000               |\n",
       "| Austria                | AUT                    | 1970                   |  7467086               |\n",
       "| Azerbaijan             | AZE                    | 1970                   |  5180023               |\n",
       "| Burundi                | BDI                    | 1970                   |  3479074               |\n",
       "| Belgium                | BEL                    | 1970                   |  9655549               |\n",
       "| Benin                  | BEN                    | 1970                   |  2912340               |\n",
       "| Burkina Faso           | BFA                    | 1970                   |  5624600               |\n",
       "| Bangladesh             | BGD                    | 1970                   | 64232482               |\n",
       "| Bulgaria               | BGR                    | 1970                   |  8489574               |\n",
       "| Bahrain                | BHR                    | 1970                   |   212605               |\n",
       "| Bahamas, The           | BHS                    | 1970                   |   169377               |\n",
       "| Bosnia and Herzegovina | BIH                    | 1970                   |  3760529               |\n",
       "| Belarus                | BLR                    | 1970                   |  9040000               |\n",
       "| Belize                 | BLZ                    | 1970                   |   122182               |\n",
       "| Bermuda                | BMU                    | 1970                   |    55000               |\n",
       "| Bolivia                | BOL                    | 1970                   |  4484004               |\n",
       "| Brazil                 | BRA                    | 1970                   | 95113265               |\n",
       "| Barbados               | BRB                    | 1970                   |   238896               |\n",
       "| Brunei Darussalam      | BRN                    | 1970                   |   129529               |\n",
       "| Bhutan                 | BTN                    | 1970                   |   297316               |\n",
       "| ... | ... | ... | ... |\n",
       "| Turks and Caicos Islands       | TCA                            | 2015                           |     35981                      |\n",
       "| Chad                           | TCD                            | 2015                           |  14110975                      |\n",
       "| Togo                           | TGO                            | 2015                           |   7323158                      |\n",
       "| Thailand                       | THA                            | 2015                           |  68714511                      |\n",
       "| Tajikistan                     | TJK                            | 2015                           |   8454028                      |\n",
       "| Turkmenistan                   | TKM                            | 2015                           |   5565287                      |\n",
       "| Timor-Leste                    | TLS                            | 2015                           |   1196302                      |\n",
       "| Tonga                          | TON                            | 2015                           |    100781                      |\n",
       "| Trinidad and Tobago            | TTO                            | 2015                           |   1370328                      |\n",
       "| Tunisia                        | TUN                            | 2015                           |  11179949                      |\n",
       "| Turkey                         | TUR                            | 2015                           |  78529409                      |\n",
       "| Tuvalu                         | TUV                            | 2015                           |     11099                      |\n",
       "| Tanzania                       | TZA                            | 2015                           |  51482633                      |\n",
       "| Uganda                         | UGA                            | 2015                           |  38225453                      |\n",
       "| Ukraine                        | UKR                            | 2015                           |  45154036                      |\n",
       "| Uruguay                        | URY                            | 2015                           |   3412009                      |\n",
       "| United States                  | USA                            | 2015                           | 320635163                      |\n",
       "| Uzbekistan                     | UZB                            | 2015                           |  31298900                      |\n",
       "| St. Vincent and the Grenadines | VCT                            | 2015                           |    109148                      |\n",
       "| Venezuela, RB                  | VEN                            | 2015                           |  30081829                      |\n",
       "| British Virgin Islands         | VGB                            | 2015                           |     29152                      |\n",
       "| Virgin Islands (U.S.)          | VIR                            | 2015                           |    107710                      |\n",
       "| Vietnam                        | VNM                            | 2015                           |  92677076                      |\n",
       "| Vanuatu                        | VUT                            | 2015                           |    271130                      |\n",
       "| Samoa                          | WSM                            | 2015                           |    193513                      |\n",
       "| Kosovo                         | XKX                            | 2015                           |   1788196                      |\n",
       "| Yemen, Rep.                    | YEM                            | 2015                           |  26497889                      |\n",
       "| South Africa                   | ZAF                            | 2015                           |  55386367                      |\n",
       "| Zambia                         | ZMB                            | 2015                           |  15879361                      |\n",
       "| Zimbabwe                       | ZWE                            | 2015                           |  13814629                      |\n",
       "\n"
      ],
      "text/plain": [
       "     country                        code time value    \n",
       "1    Aruba                          ABW  1970    59063 \n",
       "2    Afghanistan                    AFG  1970 11173642 \n",
       "3    Angola                         AGO  1970  5890365 \n",
       "4    Albania                        ALB  1970  2135479 \n",
       "5    Andorra                        AND  1970    24276 \n",
       "6    United Arab Emirates           ARE  1970   234514 \n",
       "7    Argentina                      ARG  1970 23880561 \n",
       "8    Armenia                        ARM  1970  2525068 \n",
       "9    American Samoa                 ASM  1970    27363 \n",
       "10   Antigua and Barbuda            ATG  1970    64177 \n",
       "11   Australia                      AUS  1970 12507000 \n",
       "12   Austria                        AUT  1970  7467086 \n",
       "13   Azerbaijan                     AZE  1970  5180023 \n",
       "14   Burundi                        BDI  1970  3479074 \n",
       "15   Belgium                        BEL  1970  9655549 \n",
       "16   Benin                          BEN  1970  2912340 \n",
       "17   Burkina Faso                   BFA  1970  5624600 \n",
       "18   Bangladesh                     BGD  1970 64232482 \n",
       "19   Bulgaria                       BGR  1970  8489574 \n",
       "20   Bahrain                        BHR  1970   212605 \n",
       "21   Bahamas, The                   BHS  1970   169377 \n",
       "22   Bosnia and Herzegovina         BIH  1970  3760529 \n",
       "23   Belarus                        BLR  1970  9040000 \n",
       "24   Belize                         BLZ  1970   122182 \n",
       "25   Bermuda                        BMU  1970    55000 \n",
       "26   Bolivia                        BOL  1970  4484004 \n",
       "27   Brazil                         BRA  1970 95113265 \n",
       "28   Barbados                       BRB  1970   238896 \n",
       "29   Brunei Darussalam              BRN  1970   129529 \n",
       "30   Bhutan                         BTN  1970   297316 \n",
       "...  ...                            ...  ...  ...      \n",
       "9861 Turks and Caicos Islands       TCA  2015     35981\n",
       "9862 Chad                           TCD  2015  14110975\n",
       "9863 Togo                           TGO  2015   7323158\n",
       "9864 Thailand                       THA  2015  68714511\n",
       "9865 Tajikistan                     TJK  2015   8454028\n",
       "9866 Turkmenistan                   TKM  2015   5565287\n",
       "9867 Timor-Leste                    TLS  2015   1196302\n",
       "9868 Tonga                          TON  2015    100781\n",
       "9869 Trinidad and Tobago            TTO  2015   1370328\n",
       "9870 Tunisia                        TUN  2015  11179949\n",
       "9871 Turkey                         TUR  2015  78529409\n",
       "9872 Tuvalu                         TUV  2015     11099\n",
       "9873 Tanzania                       TZA  2015  51482633\n",
       "9874 Uganda                         UGA  2015  38225453\n",
       "9875 Ukraine                        UKR  2015  45154036\n",
       "9876 Uruguay                        URY  2015   3412009\n",
       "9877 United States                  USA  2015 320635163\n",
       "9878 Uzbekistan                     UZB  2015  31298900\n",
       "9879 St. Vincent and the Grenadines VCT  2015    109148\n",
       "9880 Venezuela, RB                  VEN  2015  30081829\n",
       "9881 British Virgin Islands         VGB  2015     29152\n",
       "9882 Virgin Islands (U.S.)          VIR  2015    107710\n",
       "9883 Vietnam                        VNM  2015  92677076\n",
       "9884 Vanuatu                        VUT  2015    271130\n",
       "9885 Samoa                          WSM  2015    193513\n",
       "9886 Kosovo                         XKX  2015   1788196\n",
       "9887 Yemen, Rep.                    YEM  2015  26497889\n",
       "9888 South Africa                   ZAF  2015  55386367\n",
       "9889 Zambia                         ZMB  2015  15879361\n",
       "9890 Zimbabwe                       ZWE  2015  13814629"
      ]
     },
     "metadata": {},
     "output_type": "display_data"
    }
   ],
   "source": [
    "d1"
   ]
  },
  {
   "cell_type": "code",
   "execution_count": 19,
   "metadata": {},
   "outputs": [],
   "source": [
    "write.csv(d1, 'sortedPopulation.csv')"
   ]
  },
  {
   "cell_type": "code",
   "execution_count": null,
   "metadata": {},
   "outputs": [],
   "source": []
  }
 ],
 "metadata": {
  "kernelspec": {
   "display_name": "R",
   "language": "R",
   "name": "ir"
  },
  "language_info": {
   "codemirror_mode": "r",
   "file_extension": ".r",
   "mimetype": "text/x-r-source",
   "name": "R",
   "pygments_lexer": "r",
   "version": "3.6.1"
  }
 },
 "nbformat": 4,
 "nbformat_minor": 4
}
